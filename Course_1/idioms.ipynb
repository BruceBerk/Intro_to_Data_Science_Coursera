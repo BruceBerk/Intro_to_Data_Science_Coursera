{
 "cells": [
  {
   "cell_type": "markdown",
   "metadata": {},
   "source": [
    "### Select certain columns from a frame and exclude the last row\n",
    "\n",
    "cities=cities.iloc[:-1,[0,3,5,6,7,8]]"
   ]
  },
  {
   "cell_type": "markdown",
   "metadata": {},
   "source": [
    "### Regex to isolate team names (eliminate cities, asterisks, and playoff seeding\n",
    "\n",
    "### Golden State Warriors* (2) -> Warriors"
   ]
  },
  {
   "cell_type": "code",
   "execution_count": null,
   "metadata": {},
   "outputs": [],
   "source": [
    "def fix_by_regex(m):\n",
    "    return m('keep')\n",
    "    \n",
    "teams_df['team'] = teams_df['team'].str.replace(r\"(\\w+\\s)*(?P<keep>\\w+)(\\*?\\s\\(\\d+\\))\", fix_by_regex, regex=True)"
   ]
  },
  {
   "cell_type": "code",
   "execution_count": null,
   "metadata": {},
   "outputs": [],
   "source": []
  }
 ],
 "metadata": {
  "kernelspec": {
   "display_name": "Python 3",
   "language": "python",
   "name": "python3"
  },
  "language_info": {
   "codemirror_mode": {
    "name": "ipython",
    "version": 3
   },
   "file_extension": ".py",
   "mimetype": "text/x-python",
   "name": "python",
   "nbconvert_exporter": "python",
   "pygments_lexer": "ipython3",
   "version": "3.7.6"
  }
 },
 "nbformat": 4,
 "nbformat_minor": 4
}
